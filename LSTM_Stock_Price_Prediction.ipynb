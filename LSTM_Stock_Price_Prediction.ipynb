{
  "nbformat": 4,
  "nbformat_minor": 0,
  "metadata": {
    "colab": {
      "provenance": []
    },
    "kernelspec": {
      "name": "python3",
      "display_name": "Python 3"
    },
    "language_info": {
      "name": "python"
    }
  },
  "cells": [
    {
      "cell_type": "code",
      "execution_count": null,
      "metadata": {
        "colab": {
          "base_uri": "https://localhost:8080/"
        },
        "id": "nG-MU_dDtDP-",
        "outputId": "ad09f9c5-5548-41ef-e6df-7911fb2bdcbf"
      },
      "outputs": [
        {
          "output_type": "stream",
          "name": "stdout",
          "text": [
            "Mounted at /content/gdrive\n"
          ]
        }
      ],
      "source": [
        "from google.colab import drive\n",
        "drive.mount('/content/gdrive')"
      ]
    },
    {
      "cell_type": "code",
      "source": [
        "import matplotlib.pyplot as plt\n",
        "import keras\n",
        "import pandas as pd\n",
        "import numpy as np\n",
        "from keras.models import Sequential\n",
        "from keras.layers import Dense\n",
        "from keras.layers import LSTM\n",
        "from keras.layers import Dropout\n",
        "from sklearn.preprocessing import MinMaxScaler\n",
        "from sklearn.metrics import mean_squared_error\n",
        "from sklearn.metrics import mean_absolute_error\n",
        "from sklearn.model_selection import train_test_split\n",
        "from keras.callbacks import EarlyStopping"
      ],
      "metadata": {
        "id": "qXpbLEZQtfHU"
      },
      "execution_count": null,
      "outputs": []
    },
    {
      "cell_type": "markdown",
      "source": [
        "## **Importing the Data**"
      ],
      "metadata": {
        "id": "kL91PkzyYGua"
      }
    },
    {
      "cell_type": "code",
      "source": [
        "df=pd.read_csv(\"/content/gdrive/MyDrive/Deep Learning Assignments/Assignment 8/Google_Stock_Price_Train.csv\")\n",
        "print('Number of rows and columns:', df.shape)\n",
        "df.head(5)"
      ],
      "metadata": {
        "id": "O7VGdN69tPip",
        "colab": {
          "base_uri": "https://localhost:8080/",
          "height": 224
        },
        "outputId": "becc6967-bff5-4e98-9adf-f5597fcf6c47"
      },
      "execution_count": null,
      "outputs": [
        {
          "output_type": "stream",
          "name": "stdout",
          "text": [
            "Number of rows and columns: (1258, 6)\n"
          ]
        },
        {
          "output_type": "execute_result",
          "data": {
            "text/plain": [
              "       Date    Open    High     Low   Close      Volume\n",
              "0  1/3/2012  325.25  332.83  324.97  663.59   7,380,500\n",
              "1  1/4/2012  331.27  333.87  329.08  666.45   5,749,400\n",
              "2  1/5/2012  329.83  330.75  326.89  657.21   6,590,300\n",
              "3  1/6/2012  328.34  328.77  323.68  648.24   5,405,900\n",
              "4  1/9/2012  322.04  322.29  309.46  620.76  11,688,800"
            ],
            "text/html": [
              "\n",
              "  <div id=\"df-58b8bc05-0fd9-4a72-9a7d-b9ccb3de925f\">\n",
              "    <div class=\"colab-df-container\">\n",
              "      <div>\n",
              "<style scoped>\n",
              "    .dataframe tbody tr th:only-of-type {\n",
              "        vertical-align: middle;\n",
              "    }\n",
              "\n",
              "    .dataframe tbody tr th {\n",
              "        vertical-align: top;\n",
              "    }\n",
              "\n",
              "    .dataframe thead th {\n",
              "        text-align: right;\n",
              "    }\n",
              "</style>\n",
              "<table border=\"1\" class=\"dataframe\">\n",
              "  <thead>\n",
              "    <tr style=\"text-align: right;\">\n",
              "      <th></th>\n",
              "      <th>Date</th>\n",
              "      <th>Open</th>\n",
              "      <th>High</th>\n",
              "      <th>Low</th>\n",
              "      <th>Close</th>\n",
              "      <th>Volume</th>\n",
              "    </tr>\n",
              "  </thead>\n",
              "  <tbody>\n",
              "    <tr>\n",
              "      <th>0</th>\n",
              "      <td>1/3/2012</td>\n",
              "      <td>325.25</td>\n",
              "      <td>332.83</td>\n",
              "      <td>324.97</td>\n",
              "      <td>663.59</td>\n",
              "      <td>7,380,500</td>\n",
              "    </tr>\n",
              "    <tr>\n",
              "      <th>1</th>\n",
              "      <td>1/4/2012</td>\n",
              "      <td>331.27</td>\n",
              "      <td>333.87</td>\n",
              "      <td>329.08</td>\n",
              "      <td>666.45</td>\n",
              "      <td>5,749,400</td>\n",
              "    </tr>\n",
              "    <tr>\n",
              "      <th>2</th>\n",
              "      <td>1/5/2012</td>\n",
              "      <td>329.83</td>\n",
              "      <td>330.75</td>\n",
              "      <td>326.89</td>\n",
              "      <td>657.21</td>\n",
              "      <td>6,590,300</td>\n",
              "    </tr>\n",
              "    <tr>\n",
              "      <th>3</th>\n",
              "      <td>1/6/2012</td>\n",
              "      <td>328.34</td>\n",
              "      <td>328.77</td>\n",
              "      <td>323.68</td>\n",
              "      <td>648.24</td>\n",
              "      <td>5,405,900</td>\n",
              "    </tr>\n",
              "    <tr>\n",
              "      <th>4</th>\n",
              "      <td>1/9/2012</td>\n",
              "      <td>322.04</td>\n",
              "      <td>322.29</td>\n",
              "      <td>309.46</td>\n",
              "      <td>620.76</td>\n",
              "      <td>11,688,800</td>\n",
              "    </tr>\n",
              "  </tbody>\n",
              "</table>\n",
              "</div>\n",
              "      <button class=\"colab-df-convert\" onclick=\"convertToInteractive('df-58b8bc05-0fd9-4a72-9a7d-b9ccb3de925f')\"\n",
              "              title=\"Convert this dataframe to an interactive table.\"\n",
              "              style=\"display:none;\">\n",
              "        \n",
              "  <svg xmlns=\"http://www.w3.org/2000/svg\" height=\"24px\"viewBox=\"0 0 24 24\"\n",
              "       width=\"24px\">\n",
              "    <path d=\"M0 0h24v24H0V0z\" fill=\"none\"/>\n",
              "    <path d=\"M18.56 5.44l.94 2.06.94-2.06 2.06-.94-2.06-.94-.94-2.06-.94 2.06-2.06.94zm-11 1L8.5 8.5l.94-2.06 2.06-.94-2.06-.94L8.5 2.5l-.94 2.06-2.06.94zm10 10l.94 2.06.94-2.06 2.06-.94-2.06-.94-.94-2.06-.94 2.06-2.06.94z\"/><path d=\"M17.41 7.96l-1.37-1.37c-.4-.4-.92-.59-1.43-.59-.52 0-1.04.2-1.43.59L10.3 9.45l-7.72 7.72c-.78.78-.78 2.05 0 2.83L4 21.41c.39.39.9.59 1.41.59.51 0 1.02-.2 1.41-.59l7.78-7.78 2.81-2.81c.8-.78.8-2.07 0-2.86zM5.41 20L4 18.59l7.72-7.72 1.47 1.35L5.41 20z\"/>\n",
              "  </svg>\n",
              "      </button>\n",
              "      \n",
              "  <style>\n",
              "    .colab-df-container {\n",
              "      display:flex;\n",
              "      flex-wrap:wrap;\n",
              "      gap: 12px;\n",
              "    }\n",
              "\n",
              "    .colab-df-convert {\n",
              "      background-color: #E8F0FE;\n",
              "      border: none;\n",
              "      border-radius: 50%;\n",
              "      cursor: pointer;\n",
              "      display: none;\n",
              "      fill: #1967D2;\n",
              "      height: 32px;\n",
              "      padding: 0 0 0 0;\n",
              "      width: 32px;\n",
              "    }\n",
              "\n",
              "    .colab-df-convert:hover {\n",
              "      background-color: #E2EBFA;\n",
              "      box-shadow: 0px 1px 2px rgba(60, 64, 67, 0.3), 0px 1px 3px 1px rgba(60, 64, 67, 0.15);\n",
              "      fill: #174EA6;\n",
              "    }\n",
              "\n",
              "    [theme=dark] .colab-df-convert {\n",
              "      background-color: #3B4455;\n",
              "      fill: #D2E3FC;\n",
              "    }\n",
              "\n",
              "    [theme=dark] .colab-df-convert:hover {\n",
              "      background-color: #434B5C;\n",
              "      box-shadow: 0px 1px 3px 1px rgba(0, 0, 0, 0.15);\n",
              "      filter: drop-shadow(0px 1px 2px rgba(0, 0, 0, 0.3));\n",
              "      fill: #FFFFFF;\n",
              "    }\n",
              "  </style>\n",
              "\n",
              "      <script>\n",
              "        const buttonEl =\n",
              "          document.querySelector('#df-58b8bc05-0fd9-4a72-9a7d-b9ccb3de925f button.colab-df-convert');\n",
              "        buttonEl.style.display =\n",
              "          google.colab.kernel.accessAllowed ? 'block' : 'none';\n",
              "\n",
              "        async function convertToInteractive(key) {\n",
              "          const element = document.querySelector('#df-58b8bc05-0fd9-4a72-9a7d-b9ccb3de925f');\n",
              "          const dataTable =\n",
              "            await google.colab.kernel.invokeFunction('convertToInteractive',\n",
              "                                                     [key], {});\n",
              "          if (!dataTable) return;\n",
              "\n",
              "          const docLinkHtml = 'Like what you see? Visit the ' +\n",
              "            '<a target=\"_blank\" href=https://colab.research.google.com/notebooks/data_table.ipynb>data table notebook</a>'\n",
              "            + ' to learn more about interactive tables.';\n",
              "          element.innerHTML = '';\n",
              "          dataTable['output_type'] = 'display_data';\n",
              "          await google.colab.output.renderOutput(dataTable, element);\n",
              "          const docLink = document.createElement('div');\n",
              "          docLink.innerHTML = docLinkHtml;\n",
              "          element.appendChild(docLink);\n",
              "        }\n",
              "      </script>\n",
              "    </div>\n",
              "  </div>\n",
              "  "
            ]
          },
          "metadata": {},
          "execution_count": 3
        }
      ]
    },
    {
      "cell_type": "markdown",
      "source": [
        "# **Preprocessing the Data**"
      ],
      "metadata": {
        "id": "7NSMyLbxPxCG"
      }
    },
    {
      "cell_type": "code",
      "source": [
        "df.isna().sum()"
      ],
      "metadata": {
        "colab": {
          "base_uri": "https://localhost:8080/"
        },
        "id": "BvZOP_ZMP4WD",
        "outputId": "93a7901e-df0b-4c85-87c1-c50d147be3c9"
      },
      "execution_count": null,
      "outputs": [
        {
          "output_type": "execute_result",
          "data": {
            "text/plain": [
              "Date      0\n",
              "Open      0\n",
              "High      0\n",
              "Low       0\n",
              "Close     0\n",
              "Volume    0\n",
              "dtype: int64"
            ]
          },
          "metadata": {},
          "execution_count": 7
        }
      ]
    },
    {
      "cell_type": "code",
      "source": [
        "# Checking for Outliers in 'High'\n",
        "lower=df['High'].min()\n",
        "upper=df['High'].max()\n",
        "outliers = [x for x in df['High'] if x < lower or x > upper]\n",
        "print('Identified outliers: %d' % len(outliers))"
      ],
      "metadata": {
        "colab": {
          "base_uri": "https://localhost:8080/"
        },
        "id": "Zmp39Pbnf_VO",
        "outputId": "c574697c-de2b-4cdc-fa88-fe40bf104038"
      },
      "execution_count": null,
      "outputs": [
        {
          "output_type": "stream",
          "name": "stdout",
          "text": [
            "Identified outliers: 0\n"
          ]
        }
      ]
    },
    {
      "cell_type": "code",
      "source": [
        "# Checking for outliers in 'Low'\n",
        "lower=df['Low'].min()\n",
        "upper=df['Low'].max()\n",
        "outliers = [x for x in df['Low'] if x < lower or x > upper]\n",
        "print('Identified outliers: %d' % len(outliers))"
      ],
      "metadata": {
        "colab": {
          "base_uri": "https://localhost:8080/"
        },
        "id": "FLHqbPEKfUrk",
        "outputId": "be6c6781-540b-4a15-990f-4cf0c557af59"
      },
      "execution_count": null,
      "outputs": [
        {
          "output_type": "stream",
          "name": "stdout",
          "text": [
            "Identified outliers: 0\n"
          ]
        }
      ]
    },
    {
      "cell_type": "code",
      "source": [
        "# Checking for Outliers in 'Close'\n",
        "lower=df['Close'].min()\n",
        "upper=df['Close'].max()\n",
        "outliers = [x for x in df['Close'] if x < lower or x > upper]\n",
        "print('Identified outliers: %d' % len(outliers))"
      ],
      "metadata": {
        "colab": {
          "base_uri": "https://localhost:8080/"
        },
        "id": "KE6sMsWDgm28",
        "outputId": "887274cc-a68b-4050-d810-0ae21ccb844f"
      },
      "execution_count": null,
      "outputs": [
        {
          "output_type": "stream",
          "name": "stdout",
          "text": [
            "Identified outliers: 0\n"
          ]
        }
      ]
    },
    {
      "cell_type": "markdown",
      "source": [
        "## **Splitting the Data in an 80:20 Ratio and Scaling**"
      ],
      "metadata": {
        "id": "7LAFS84UYORn"
      }
    },
    {
      "cell_type": "code",
      "source": [
        "training_set = df.iloc[:1007, 1:2].values\n",
        "test_set = df.iloc[1007:, 1:2].values"
      ],
      "metadata": {
        "id": "7zMY4Daet3CD"
      },
      "execution_count": null,
      "outputs": []
    },
    {
      "cell_type": "code",
      "source": [
        "# Feature Scaling\n",
        "sc = MinMaxScaler(feature_range = (0, 1))\n",
        "training_set_scaled = sc.fit_transform(training_set)\n",
        "# Creating a data structure with 60 time-steps and 1 output\n",
        "X_train = []\n",
        "y_train = []\n",
        "for i in range(60, 1007):\n",
        "    X_train.append(training_set_scaled[i-60:i, 0])\n",
        "    y_train.append(training_set_scaled[i, 0])\n",
        "X_train, y_train = np.array(X_train), np.array(y_train)\n",
        "X_train = np.reshape(X_train, (X_train.shape[0], X_train.shape[1], 1))\n",
        "print(X_train.shape)\n",
        "#Shape = (740, 60, 1) (values, time-step,label)"
      ],
      "metadata": {
        "colab": {
          "base_uri": "https://localhost:8080/"
        },
        "id": "BmE1hz8kt5IH",
        "outputId": "5c262811-1fbb-453a-a2ef-db96ffcaafd2"
      },
      "execution_count": null,
      "outputs": [
        {
          "output_type": "stream",
          "name": "stdout",
          "text": [
            "(947, 60, 1)\n"
          ]
        }
      ]
    },
    {
      "cell_type": "markdown",
      "source": [
        "## **Creating the model**"
      ],
      "metadata": {
        "id": "lQBioUpMjURn"
      }
    },
    {
      "cell_type": "code",
      "source": [
        "model = Sequential()\n",
        "#Adding the first LSTM layer and some Dropout regularisation\n",
        "model.add(LSTM(units = 50, return_sequences = True, input_shape = (X_train.shape[1], 1)))\n",
        "model.add(Dropout(0.2))\n",
        "# Adding a second LSTM layer and some Dropout regularisation\n",
        "model.add(LSTM(units = 50, return_sequences = True))\n",
        "model.add(Dropout(0.2))\n",
        "# Adding a third LSTM layer and some Dropout regularisation\n",
        "model.add(LSTM(units = 50, return_sequences = True))\n",
        "model.add(Dropout(0.2))\n",
        "# Adding a fourth LSTM layer and some Dropout regularisation\n",
        "model.add(LSTM(units = 50))\n",
        "model.add(Dropout(0.2))\n",
        "# Adding the output layer\n",
        "model.add(Dense(units = 1))\n",
        "\n",
        "# Compiling the RNN\n",
        "model.compile(optimizer = 'adam', loss = 'mean_squared_error')\n",
        "\n",
        "# Fitting the RNN to the Training set\n",
        "model.fit(X_train, y_train, epochs = 100, batch_size = 32)"
      ],
      "metadata": {
        "colab": {
          "base_uri": "https://localhost:8080/"
        },
        "id": "06xqrPDqt6ql",
        "outputId": "07e8c963-f605-44e8-d928-fbf99e9f2616"
      },
      "execution_count": null,
      "outputs": [
        {
          "output_type": "stream",
          "name": "stdout",
          "text": [
            "Epoch 1/100\n",
            "30/30 [==============================] - 11s 123ms/step - loss: 0.0337\n",
            "Epoch 2/100\n",
            "30/30 [==============================] - 4s 123ms/step - loss: 0.0058\n",
            "Epoch 3/100\n",
            "30/30 [==============================] - 4s 122ms/step - loss: 0.0049\n",
            "Epoch 4/100\n",
            "30/30 [==============================] - 4s 123ms/step - loss: 0.0047\n",
            "Epoch 5/100\n",
            "30/30 [==============================] - 4s 123ms/step - loss: 0.0043\n",
            "Epoch 6/100\n",
            "30/30 [==============================] - 4s 122ms/step - loss: 0.0045\n",
            "Epoch 7/100\n",
            "30/30 [==============================] - 4s 123ms/step - loss: 0.0044\n",
            "Epoch 8/100\n",
            "30/30 [==============================] - 4s 124ms/step - loss: 0.0044\n",
            "Epoch 9/100\n",
            "30/30 [==============================] - 4s 123ms/step - loss: 0.0038\n",
            "Epoch 10/100\n",
            "30/30 [==============================] - 4s 123ms/step - loss: 0.0036\n",
            "Epoch 11/100\n",
            "30/30 [==============================] - 5s 155ms/step - loss: 0.0035\n",
            "Epoch 12/100\n",
            "30/30 [==============================] - 5s 151ms/step - loss: 0.0040\n",
            "Epoch 13/100\n",
            "30/30 [==============================] - 4s 121ms/step - loss: 0.0039\n",
            "Epoch 14/100\n",
            "30/30 [==============================] - 4s 124ms/step - loss: 0.0032\n",
            "Epoch 15/100\n",
            "30/30 [==============================] - 4s 121ms/step - loss: 0.0041\n",
            "Epoch 16/100\n",
            "30/30 [==============================] - 4s 122ms/step - loss: 0.0036\n",
            "Epoch 17/100\n",
            "30/30 [==============================] - 4s 124ms/step - loss: 0.0032\n",
            "Epoch 18/100\n",
            "30/30 [==============================] - 4s 123ms/step - loss: 0.0032\n",
            "Epoch 19/100\n",
            "30/30 [==============================] - 4s 122ms/step - loss: 0.0036\n",
            "Epoch 20/100\n",
            "30/30 [==============================] - 4s 123ms/step - loss: 0.0033\n",
            "Epoch 21/100\n",
            "30/30 [==============================] - 4s 123ms/step - loss: 0.0030\n",
            "Epoch 22/100\n",
            "30/30 [==============================] - 4s 124ms/step - loss: 0.0031\n",
            "Epoch 23/100\n",
            "30/30 [==============================] - 4s 125ms/step - loss: 0.0029\n",
            "Epoch 24/100\n",
            "30/30 [==============================] - 4s 124ms/step - loss: 0.0027\n",
            "Epoch 25/100\n",
            "30/30 [==============================] - 5s 166ms/step - loss: 0.0028\n",
            "Epoch 26/100\n",
            "30/30 [==============================] - 4s 122ms/step - loss: 0.0030\n",
            "Epoch 27/100\n",
            "30/30 [==============================] - 4s 122ms/step - loss: 0.0029\n",
            "Epoch 28/100\n",
            "30/30 [==============================] - 4s 123ms/step - loss: 0.0026\n",
            "Epoch 29/100\n",
            "30/30 [==============================] - 4s 124ms/step - loss: 0.0029\n",
            "Epoch 30/100\n",
            "30/30 [==============================] - 4s 123ms/step - loss: 0.0029\n",
            "Epoch 31/100\n",
            "30/30 [==============================] - 4s 125ms/step - loss: 0.0029\n",
            "Epoch 32/100\n",
            "30/30 [==============================] - 4s 124ms/step - loss: 0.0030\n",
            "Epoch 33/100\n",
            "30/30 [==============================] - 4s 124ms/step - loss: 0.0029\n",
            "Epoch 34/100\n",
            "30/30 [==============================] - 4s 123ms/step - loss: 0.0025\n",
            "Epoch 35/100\n",
            "30/30 [==============================] - 4s 126ms/step - loss: 0.0025\n",
            "Epoch 36/100\n",
            "30/30 [==============================] - 4s 124ms/step - loss: 0.0026\n",
            "Epoch 37/100\n",
            "30/30 [==============================] - 4s 124ms/step - loss: 0.0030\n",
            "Epoch 38/100\n",
            "30/30 [==============================] - 4s 122ms/step - loss: 0.0026\n",
            "Epoch 39/100\n",
            "30/30 [==============================] - 4s 124ms/step - loss: 0.0026\n",
            "Epoch 40/100\n",
            "30/30 [==============================] - 4s 123ms/step - loss: 0.0026\n",
            "Epoch 41/100\n",
            "30/30 [==============================] - 4s 122ms/step - loss: 0.0024\n",
            "Epoch 42/100\n",
            "30/30 [==============================] - 4s 124ms/step - loss: 0.0026\n",
            "Epoch 43/100\n",
            "30/30 [==============================] - 5s 173ms/step - loss: 0.0022\n",
            "Epoch 44/100\n",
            "30/30 [==============================] - 4s 133ms/step - loss: 0.0023\n",
            "Epoch 45/100\n",
            "30/30 [==============================] - 4s 121ms/step - loss: 0.0023\n",
            "Epoch 46/100\n",
            "30/30 [==============================] - 4s 122ms/step - loss: 0.0023\n",
            "Epoch 47/100\n",
            "30/30 [==============================] - 4s 122ms/step - loss: 0.0023\n",
            "Epoch 48/100\n",
            "30/30 [==============================] - 4s 121ms/step - loss: 0.0023\n",
            "Epoch 49/100\n",
            "30/30 [==============================] - 4s 122ms/step - loss: 0.0024\n",
            "Epoch 50/100\n",
            "30/30 [==============================] - 4s 121ms/step - loss: 0.0020\n",
            "Epoch 51/100\n",
            "30/30 [==============================] - 4s 121ms/step - loss: 0.0023\n",
            "Epoch 52/100\n",
            "30/30 [==============================] - 4s 122ms/step - loss: 0.0021\n",
            "Epoch 53/100\n",
            "30/30 [==============================] - 4s 123ms/step - loss: 0.0022\n",
            "Epoch 54/100\n",
            "30/30 [==============================] - 4s 122ms/step - loss: 0.0022\n",
            "Epoch 55/100\n",
            "30/30 [==============================] - 4s 122ms/step - loss: 0.0021\n",
            "Epoch 56/100\n",
            "30/30 [==============================] - 4s 124ms/step - loss: 0.0020\n",
            "Epoch 57/100\n",
            "30/30 [==============================] - 4s 121ms/step - loss: 0.0020\n",
            "Epoch 58/100\n",
            "30/30 [==============================] - 4s 123ms/step - loss: 0.0020\n",
            "Epoch 59/100\n",
            "30/30 [==============================] - 4s 122ms/step - loss: 0.0019\n",
            "Epoch 60/100\n",
            "30/30 [==============================] - 4s 122ms/step - loss: 0.0022\n",
            "Epoch 61/100\n",
            "30/30 [==============================] - 4s 122ms/step - loss: 0.0020\n",
            "Epoch 62/100\n",
            "30/30 [==============================] - 4s 122ms/step - loss: 0.0019\n",
            "Epoch 63/100\n",
            "30/30 [==============================] - 4s 122ms/step - loss: 0.0021\n",
            "Epoch 64/100\n",
            "30/30 [==============================] - 4s 121ms/step - loss: 0.0021\n",
            "Epoch 65/100\n",
            "30/30 [==============================] - 4s 121ms/step - loss: 0.0019\n",
            "Epoch 66/100\n",
            "30/30 [==============================] - 4s 122ms/step - loss: 0.0016\n",
            "Epoch 67/100\n",
            "30/30 [==============================] - 4s 122ms/step - loss: 0.0019\n",
            "Epoch 68/100\n",
            "30/30 [==============================] - 4s 122ms/step - loss: 0.0019\n",
            "Epoch 69/100\n",
            "30/30 [==============================] - 4s 123ms/step - loss: 0.0019\n",
            "Epoch 70/100\n",
            "30/30 [==============================] - 4s 122ms/step - loss: 0.0017\n",
            "Epoch 71/100\n",
            "30/30 [==============================] - 4s 121ms/step - loss: 0.0017\n",
            "Epoch 72/100\n",
            "30/30 [==============================] - 4s 122ms/step - loss: 0.0018\n",
            "Epoch 73/100\n",
            "30/30 [==============================] - 4s 122ms/step - loss: 0.0017\n",
            "Epoch 74/100\n",
            "30/30 [==============================] - 4s 123ms/step - loss: 0.0016\n",
            "Epoch 75/100\n",
            "30/30 [==============================] - 4s 124ms/step - loss: 0.0018\n",
            "Epoch 76/100\n",
            "30/30 [==============================] - 5s 182ms/step - loss: 0.0016\n",
            "Epoch 77/100\n",
            "30/30 [==============================] - 4s 121ms/step - loss: 0.0017\n",
            "Epoch 78/100\n",
            "30/30 [==============================] - 4s 123ms/step - loss: 0.0017\n",
            "Epoch 79/100\n",
            "30/30 [==============================] - 4s 123ms/step - loss: 0.0016\n",
            "Epoch 80/100\n",
            "30/30 [==============================] - 4s 121ms/step - loss: 0.0016\n",
            "Epoch 81/100\n",
            "30/30 [==============================] - 4s 123ms/step - loss: 0.0016\n",
            "Epoch 82/100\n",
            "30/30 [==============================] - 4s 122ms/step - loss: 0.0015\n",
            "Epoch 83/100\n",
            "30/30 [==============================] - 4s 122ms/step - loss: 0.0016\n",
            "Epoch 84/100\n",
            "30/30 [==============================] - 4s 121ms/step - loss: 0.0015\n",
            "Epoch 85/100\n",
            "30/30 [==============================] - 4s 124ms/step - loss: 0.0014\n",
            "Epoch 86/100\n",
            "30/30 [==============================] - 4s 124ms/step - loss: 0.0014\n",
            "Epoch 87/100\n",
            "30/30 [==============================] - 4s 124ms/step - loss: 0.0014\n",
            "Epoch 88/100\n",
            "30/30 [==============================] - 4s 124ms/step - loss: 0.0013\n",
            "Epoch 89/100\n",
            "30/30 [==============================] - 4s 125ms/step - loss: 0.0014\n",
            "Epoch 90/100\n",
            "30/30 [==============================] - 4s 124ms/step - loss: 0.0014\n",
            "Epoch 91/100\n",
            "30/30 [==============================] - 4s 123ms/step - loss: 0.0014\n",
            "Epoch 92/100\n",
            "30/30 [==============================] - 4s 123ms/step - loss: 0.0014\n",
            "Epoch 93/100\n",
            "30/30 [==============================] - 4s 124ms/step - loss: 0.0014\n",
            "Epoch 94/100\n",
            "30/30 [==============================] - 4s 124ms/step - loss: 0.0015\n",
            "Epoch 95/100\n",
            "30/30 [==============================] - 4s 124ms/step - loss: 0.0015\n",
            "Epoch 96/100\n",
            "30/30 [==============================] - 4s 123ms/step - loss: 0.0014\n",
            "Epoch 97/100\n",
            "30/30 [==============================] - 4s 122ms/step - loss: 0.0014\n",
            "Epoch 98/100\n",
            "30/30 [==============================] - 4s 123ms/step - loss: 0.0014\n",
            "Epoch 99/100\n",
            "30/30 [==============================] - 4s 125ms/step - loss: 0.0013\n",
            "Epoch 100/100\n",
            "30/30 [==============================] - 4s 124ms/step - loss: 0.0012\n"
          ]
        },
        {
          "output_type": "execute_result",
          "data": {
            "text/plain": [
              "<keras.callbacks.History at 0x7f0e5a360510>"
            ]
          },
          "metadata": {},
          "execution_count": 95
        }
      ]
    },
    {
      "cell_type": "code",
      "source": [
        "# Getting the predicted stock price of 2017\n",
        "dataset_train = df.iloc[:1007, 1:2]\n",
        "dataset_test = df.iloc[1007:, 1:2]\n",
        "dataset_total = pd.concat((dataset_train, dataset_test), axis = 0)\n",
        "inputs = dataset_total[len(dataset_total) - len(dataset_test) - 60:].values\n",
        "inputs = inputs.reshape(-1,1)\n",
        "inputs = sc.transform(inputs)\n",
        "X_test = []\n",
        "for i in range(60, 311):\n",
        "    X_test.append(inputs[i-60:i, 0])\n",
        "X_test = np.array(X_test)\n",
        "X_test = np.reshape(X_test, (X_test.shape[0], X_test.shape[1], 1))\n",
        "print(X_test.shape)\n"
      ],
      "metadata": {
        "colab": {
          "base_uri": "https://localhost:8080/"
        },
        "id": "PNBTn-qLt8fn",
        "outputId": "ceed8403-300c-4bb0-d4e9-11da2d95cd73"
      },
      "execution_count": null,
      "outputs": [
        {
          "output_type": "stream",
          "name": "stdout",
          "text": [
            "(251, 60, 1)\n"
          ]
        }
      ]
    },
    {
      "cell_type": "code",
      "source": [
        "predicted_stock_price = model.predict(X_test)\n",
        "predicted_stock_price = sc.inverse_transform(predicted_stock_price)"
      ],
      "metadata": {
        "colab": {
          "base_uri": "https://localhost:8080/"
        },
        "id": "W59tgzGeuBKV",
        "outputId": "1b5dd227-84f3-431d-9625-6d0607983692"
      },
      "execution_count": null,
      "outputs": [
        {
          "output_type": "stream",
          "name": "stdout",
          "text": [
            "8/8 [==============================] - 2s 32ms/step\n"
          ]
        }
      ]
    },
    {
      "cell_type": "code",
      "source": [
        "# Visualising the results\n",
        "plt.figure(figsize=(10,2))\n",
        "plt.plot(df.loc[1007:, 'Date'],dataset_test.values, color = 'red', label = 'Real Google Stock Price')\n",
        "plt.plot(df.loc[1007:, 'Date'],predicted_stock_price, color = 'blue', label = 'Predicted Google Stock Price')\n",
        "plt.xticks(np.arange(0,400,50))\n",
        "plt.title('Google Stock Price Prediction')\n",
        "plt.xlabel('Time')\n",
        "plt.ylabel('Google Stock Price')\n",
        "plt.legend()\n",
        "plt.show()"
      ],
      "metadata": {
        "colab": {
          "base_uri": "https://localhost:8080/",
          "height": 187
        },
        "id": "Mvt9CZzhuBHf",
        "outputId": "7ac0910c-7d5b-407f-f5cb-9908c6252784"
      },
      "execution_count": null,
      "outputs": [
        {
          "output_type": "display_data",
          "data": {
            "text/plain": [
              "<Figure size 720x144 with 1 Axes>"
            ],
            "image/png": "[encoded data removed]"
          },
          "metadata": {
            "needs_background": "light"
          }
        }
      ]
    },
    {
      "cell_type": "markdown",
      "source": [
        "# **Changing the Step Size to 30**"
      ],
      "metadata": {
        "id": "rvam1GGV0HQt"
      }
    },
    {
      "cell_type": "code",
      "source": [
        "# Feature Scaling\n",
        "sc = MinMaxScaler(feature_range = (0, 1))\n",
        "training_set_scaled = sc.fit_transform(training_set)\n",
        "# Creating a data structure with 60 time-steps and 1 output\n",
        "X_train = []\n",
        "y_train = []\n",
        "for i in range(30, 1007):\n",
        "    X_train.append(training_set_scaled[i-30:i, 0])\n",
        "    y_train.append(training_set_scaled[i, 0])\n",
        "X_train, y_train = np.array(X_train), np.array(y_train)\n",
        "X_train = np.reshape(X_train, (X_train.shape[0], X_train.shape[1], 1))\n",
        "print(X_train.shape)\n",
        "#Shape = (740, 60, 1) (values, time-step,label)"
      ],
      "metadata": {
        "colab": {
          "base_uri": "https://localhost:8080/"
        },
        "id": "oTJDnMKkuBEw",
        "outputId": "150dbf99-b783-4984-b85f-a259a3e52aad"
      },
      "execution_count": null,
      "outputs": [
        {
          "output_type": "stream",
          "name": "stdout",
          "text": [
            "(977, 30, 1)\n"
          ]
        }
      ]
    },
    {
      "cell_type": "code",
      "source": [
        "model = Sequential()\n",
        "#Adding the first LSTM layer and some Dropout regularisation\n",
        "model.add(LSTM(units = 50, return_sequences = True, input_shape = (X_train.shape[1], 1)))\n",
        "model.add(Dropout(0.2))\n",
        "# Adding a second LSTM layer and some Dropout regularisation\n",
        "model.add(LSTM(units = 50, return_sequences = True))\n",
        "model.add(Dropout(0.2))\n",
        "# Adding a third LSTM layer and some Dropout regularisation\n",
        "model.add(LSTM(units = 50, return_sequences = True))\n",
        "model.add(Dropout(0.2))\n",
        "# Adding a fourth LSTM layer and some Dropout regularisation\n",
        "model.add(LSTM(units = 50))\n",
        "model.add(Dropout(0.2))\n",
        "# Adding the output layer\n",
        "model.add(Dense(units = 1))\n",
        "\n",
        "# Compiling the RNN\n",
        "model.compile(optimizer = 'adam', loss = 'mean_squared_error')\n",
        "\n",
        "# Fitting the RNN to the Training set\n",
        "model.fit(X_train, y_train, epochs = 100, batch_size = 32)"
      ],
      "metadata": {
        "colab": {
          "base_uri": "https://localhost:8080/"
        },
        "id": "D8C8c5cKuV1k",
        "outputId": "eb754cb9-31d7-478f-ec37-3568b87d52a5"
      },
      "execution_count": null,
      "outputs": [
        {
          "output_type": "stream",
          "name": "stdout",
          "text": [
            "Epoch 1/100\n",
            "31/31 [==============================] - 9s 64ms/step - loss: 0.0315\n",
            "Epoch 2/100\n",
            "31/31 [==============================] - 2s 66ms/step - loss: 0.0064\n",
            "Epoch 3/100\n",
            "31/31 [==============================] - 2s 66ms/step - loss: 0.0050\n",
            "Epoch 4/100\n",
            "31/31 [==============================] - 2s 66ms/step - loss: 0.0046\n",
            "Epoch 5/100\n",
            "31/31 [==============================] - 2s 67ms/step - loss: 0.0047\n",
            "Epoch 6/100\n",
            "31/31 [==============================] - 2s 66ms/step - loss: 0.0054\n",
            "Epoch 7/100\n",
            "31/31 [==============================] - 2s 66ms/step - loss: 0.0044\n",
            "Epoch 8/100\n",
            "31/31 [==============================] - 2s 66ms/step - loss: 0.0051\n",
            "Epoch 9/100\n",
            "31/31 [==============================] - 2s 65ms/step - loss: 0.0044\n",
            "Epoch 10/100\n",
            "31/31 [==============================] - 2s 66ms/step - loss: 0.0041\n",
            "Epoch 11/100\n",
            "31/31 [==============================] - 2s 65ms/step - loss: 0.0042\n",
            "Epoch 12/100\n",
            "31/31 [==============================] - 2s 66ms/step - loss: 0.0035\n",
            "Epoch 13/100\n",
            "31/31 [==============================] - 2s 65ms/step - loss: 0.0040\n",
            "Epoch 14/100\n",
            "31/31 [==============================] - 2s 65ms/step - loss: 0.0038\n",
            "Epoch 15/100\n",
            "31/31 [==============================] - 2s 66ms/step - loss: 0.0032\n",
            "Epoch 16/100\n",
            "31/31 [==============================] - 3s 95ms/step - loss: 0.0032\n",
            "Epoch 17/100\n",
            "31/31 [==============================] - 3s 94ms/step - loss: 0.0036\n",
            "Epoch 18/100\n",
            "31/31 [==============================] - 2s 65ms/step - loss: 0.0029\n",
            "Epoch 19/100\n",
            "31/31 [==============================] - 2s 66ms/step - loss: 0.0032\n",
            "Epoch 20/100\n",
            "31/31 [==============================] - 2s 65ms/step - loss: 0.0029\n",
            "Epoch 21/100\n",
            "31/31 [==============================] - 2s 66ms/step - loss: 0.0029\n",
            "Epoch 22/100\n",
            "31/31 [==============================] - 2s 65ms/step - loss: 0.0029\n",
            "Epoch 23/100\n",
            "31/31 [==============================] - 2s 65ms/step - loss: 0.0026\n",
            "Epoch 24/100\n",
            "31/31 [==============================] - 2s 65ms/step - loss: 0.0031\n",
            "Epoch 25/100\n",
            "31/31 [==============================] - 2s 65ms/step - loss: 0.0026\n",
            "Epoch 26/100\n",
            "31/31 [==============================] - 2s 66ms/step - loss: 0.0035\n",
            "Epoch 27/100\n",
            "31/31 [==============================] - 2s 65ms/step - loss: 0.0029\n",
            "Epoch 28/100\n",
            "31/31 [==============================] - 2s 65ms/step - loss: 0.0027\n",
            "Epoch 29/100\n",
            "31/31 [==============================] - 2s 64ms/step - loss: 0.0035\n",
            "Epoch 30/100\n",
            "31/31 [==============================] - 2s 65ms/step - loss: 0.0028\n",
            "Epoch 31/100\n",
            "31/31 [==============================] - 2s 65ms/step - loss: 0.0024\n",
            "Epoch 32/100\n",
            "31/31 [==============================] - 2s 66ms/step - loss: 0.0025\n",
            "Epoch 33/100\n",
            "31/31 [==============================] - 2s 66ms/step - loss: 0.0026\n",
            "Epoch 34/100\n",
            "31/31 [==============================] - 2s 66ms/step - loss: 0.0029\n",
            "Epoch 35/100\n",
            "31/31 [==============================] - 2s 65ms/step - loss: 0.0024\n",
            "Epoch 36/100\n",
            "31/31 [==============================] - 2s 66ms/step - loss: 0.0022\n",
            "Epoch 37/100\n",
            "31/31 [==============================] - 2s 66ms/step - loss: 0.0023\n",
            "Epoch 38/100\n",
            "31/31 [==============================] - 2s 66ms/step - loss: 0.0024\n",
            "Epoch 39/100\n",
            "31/31 [==============================] - 2s 67ms/step - loss: 0.0025\n",
            "Epoch 40/100\n",
            "31/31 [==============================] - 2s 66ms/step - loss: 0.0021\n",
            "Epoch 41/100\n",
            "31/31 [==============================] - 2s 66ms/step - loss: 0.0023\n",
            "Epoch 42/100\n",
            "31/31 [==============================] - 2s 66ms/step - loss: 0.0026\n",
            "Epoch 43/100\n",
            "31/31 [==============================] - 2s 65ms/step - loss: 0.0025\n",
            "Epoch 44/100\n",
            "31/31 [==============================] - 2s 65ms/step - loss: 0.0023\n",
            "Epoch 45/100\n",
            "31/31 [==============================] - 2s 67ms/step - loss: 0.0022\n",
            "Epoch 46/100\n",
            "31/31 [==============================] - 2s 66ms/step - loss: 0.0023\n",
            "Epoch 47/100\n",
            "31/31 [==============================] - 2s 66ms/step - loss: 0.0022\n",
            "Epoch 48/100\n",
            "31/31 [==============================] - 2s 65ms/step - loss: 0.0023\n",
            "Epoch 49/100\n",
            "31/31 [==============================] - 2s 68ms/step - loss: 0.0022\n",
            "Epoch 50/100\n",
            "31/31 [==============================] - 2s 66ms/step - loss: 0.0020\n",
            "Epoch 51/100\n",
            "31/31 [==============================] - 2s 66ms/step - loss: 0.0020\n",
            "Epoch 52/100\n",
            "31/31 [==============================] - 2s 66ms/step - loss: 0.0021\n",
            "Epoch 53/100\n",
            "31/31 [==============================] - 2s 66ms/step - loss: 0.0027\n",
            "Epoch 54/100\n",
            "31/31 [==============================] - 2s 67ms/step - loss: 0.0021\n",
            "Epoch 55/100\n",
            "31/31 [==============================] - 2s 66ms/step - loss: 0.0018\n",
            "Epoch 56/100\n",
            "31/31 [==============================] - 2s 67ms/step - loss: 0.0019\n",
            "Epoch 57/100\n",
            "31/31 [==============================] - 2s 66ms/step - loss: 0.0019\n",
            "Epoch 58/100\n",
            "31/31 [==============================] - 2s 67ms/step - loss: 0.0018\n",
            "Epoch 59/100\n",
            "31/31 [==============================] - 2s 66ms/step - loss: 0.0019\n",
            "Epoch 60/100\n",
            "31/31 [==============================] - 2s 66ms/step - loss: 0.0017\n",
            "Epoch 61/100\n",
            "31/31 [==============================] - 2s 66ms/step - loss: 0.0019\n",
            "Epoch 62/100\n",
            "31/31 [==============================] - 2s 66ms/step - loss: 0.0020\n",
            "Epoch 63/100\n",
            "31/31 [==============================] - 3s 85ms/step - loss: 0.0018\n",
            "Epoch 64/100\n",
            "31/31 [==============================] - 3s 91ms/step - loss: 0.0018\n",
            "Epoch 65/100\n",
            "31/31 [==============================] - 2s 66ms/step - loss: 0.0016\n",
            "Epoch 66/100\n",
            "31/31 [==============================] - 2s 68ms/step - loss: 0.0016\n",
            "Epoch 67/100\n",
            "31/31 [==============================] - 2s 66ms/step - loss: 0.0015\n",
            "Epoch 68/100\n",
            "31/31 [==============================] - 2s 66ms/step - loss: 0.0017\n",
            "Epoch 69/100\n",
            "31/31 [==============================] - 2s 66ms/step - loss: 0.0015\n",
            "Epoch 70/100\n",
            "31/31 [==============================] - 2s 66ms/step - loss: 0.0017\n",
            "Epoch 71/100\n",
            "31/31 [==============================] - 2s 66ms/step - loss: 0.0015\n",
            "Epoch 72/100\n",
            "31/31 [==============================] - 2s 66ms/step - loss: 0.0016\n",
            "Epoch 73/100\n",
            "31/31 [==============================] - 3s 98ms/step - loss: 0.0016\n",
            "Epoch 74/100\n",
            "31/31 [==============================] - 3s 90ms/step - loss: 0.0015\n",
            "Epoch 75/100\n",
            "31/31 [==============================] - 2s 66ms/step - loss: 0.0015\n",
            "Epoch 76/100\n",
            "31/31 [==============================] - 2s 65ms/step - loss: 0.0017\n",
            "Epoch 77/100\n",
            "31/31 [==============================] - 2s 65ms/step - loss: 0.0017\n",
            "Epoch 78/100\n",
            "31/31 [==============================] - 2s 66ms/step - loss: 0.0018\n",
            "Epoch 79/100\n",
            "31/31 [==============================] - 2s 66ms/step - loss: 0.0016\n",
            "Epoch 80/100\n",
            "31/31 [==============================] - 2s 66ms/step - loss: 0.0014\n",
            "Epoch 81/100\n",
            "31/31 [==============================] - 2s 65ms/step - loss: 0.0016\n",
            "Epoch 82/100\n",
            "31/31 [==============================] - 2s 65ms/step - loss: 0.0014\n",
            "Epoch 83/100\n",
            "31/31 [==============================] - 2s 65ms/step - loss: 0.0013\n",
            "Epoch 84/100\n",
            "31/31 [==============================] - 2s 65ms/step - loss: 0.0015\n",
            "Epoch 85/100\n",
            "31/31 [==============================] - 2s 66ms/step - loss: 0.0016\n",
            "Epoch 86/100\n",
            "31/31 [==============================] - 2s 65ms/step - loss: 0.0015\n",
            "Epoch 87/100\n",
            "31/31 [==============================] - 2s 66ms/step - loss: 0.0017\n",
            "Epoch 88/100\n",
            "31/31 [==============================] - 2s 65ms/step - loss: 0.0014\n",
            "Epoch 89/100\n",
            "31/31 [==============================] - 2s 66ms/step - loss: 0.0015\n",
            "Epoch 90/100\n",
            "31/31 [==============================] - 2s 66ms/step - loss: 0.0014\n",
            "Epoch 91/100\n",
            "31/31 [==============================] - 2s 66ms/step - loss: 0.0015\n",
            "Epoch 92/100\n",
            "31/31 [==============================] - 2s 66ms/step - loss: 0.0014\n",
            "Epoch 93/100\n",
            "31/31 [==============================] - 2s 66ms/step - loss: 0.0013\n",
            "Epoch 94/100\n",
            "31/31 [==============================] - 2s 65ms/step - loss: 0.0013\n",
            "Epoch 95/100\n",
            "31/31 [==============================] - 2s 66ms/step - loss: 0.0013\n",
            "Epoch 96/100\n",
            "31/31 [==============================] - 2s 66ms/step - loss: 0.0012\n",
            "Epoch 97/100\n",
            "31/31 [==============================] - 2s 65ms/step - loss: 0.0013\n",
            "Epoch 98/100\n",
            "31/31 [==============================] - 2s 66ms/step - loss: 0.0013\n",
            "Epoch 99/100\n",
            "31/31 [==============================] - 2s 65ms/step - loss: 0.0013\n",
            "Epoch 100/100\n",
            "31/31 [==============================] - 2s 66ms/step - loss: 0.0014\n"
          ]
        },
        {
          "output_type": "execute_result",
          "data": {
            "text/plain": [
              "<keras.callbacks.History at 0x7f0e58a700d0>"
            ]
          },
          "metadata": {},
          "execution_count": 101
        }
      ]
    },
    {
      "cell_type": "code",
      "source": [
        "dataset_test.shape"
      ],
      "metadata": {
        "colab": {
          "base_uri": "https://localhost:8080/"
        },
        "id": "6K1yAAvL8-oC",
        "outputId": "10353c27-9402-4805-c746-a9d6c6c55e03"
      },
      "execution_count": null,
      "outputs": [
        {
          "output_type": "execute_result",
          "data": {
            "text/plain": [
              "(251, 1)"
            ]
          },
          "metadata": {},
          "execution_count": 84
        }
      ]
    },
    {
      "cell_type": "code",
      "source": [
        "# Getting the predicted stock price of 2017\n",
        "dataset_train = df.iloc[:1007, 1:2]\n",
        "dataset_test = df.iloc[1007:, 1:2]\n",
        "dataset_total = pd.concat((dataset_train, dataset_test), axis = 0)\n",
        "inputs = dataset_total[len(dataset_total) - len(dataset_test) - 60:].values\n",
        "inputs = inputs.reshape(-1,1)\n",
        "inputs = sc.transform(inputs)\n",
        "X_test = []\n",
        "for i in range(30,281):\n",
        "    X_test.append(inputs[i-30:i, 0])\n",
        "X_test = np.array(X_test)\n",
        "X_test = np.reshape(X_test, (X_test.shape[0], X_test.shape[1], 1))\n",
        "print(X_test.shape)\n",
        "# Shape of test data same format, but smaller sample (459, 60, 1)"
      ],
      "metadata": {
        "colab": {
          "base_uri": "https://localhost:8080/"
        },
        "id": "vcnMyzD20aaP",
        "outputId": "a0f359f9-65f5-4227-9e1d-a939cf2125fd"
      },
      "execution_count": null,
      "outputs": [
        {
          "output_type": "stream",
          "name": "stdout",
          "text": [
            "(251, 30, 1)\n"
          ]
        }
      ]
    },
    {
      "cell_type": "code",
      "source": [
        "predicted_stock_price = model.predict(X_test)\n",
        "predicted_stock_price = sc.inverse_transform(predicted_stock_price)"
      ],
      "metadata": {
        "colab": {
          "base_uri": "https://localhost:8080/"
        },
        "id": "pg0dYcbP0aWW",
        "outputId": "336c5b98-5df8-4f10-a54e-036dcf0a01f4"
      },
      "execution_count": null,
      "outputs": [
        {
          "output_type": "stream",
          "name": "stdout",
          "text": [
            "8/8 [==============================] - 0s 18ms/step\n"
          ]
        }
      ]
    },
    {
      "cell_type": "code",
      "source": [
        "predicted_stock_price .shape"
      ],
      "metadata": {
        "colab": {
          "base_uri": "https://localhost:8080/"
        },
        "id": "usMJo-2R5_NN",
        "outputId": "3df1d63d-5d36-4d68-c03b-10f14f943504"
      },
      "execution_count": null,
      "outputs": [
        {
          "output_type": "execute_result",
          "data": {
            "text/plain": [
              "(251, 1)"
            ]
          },
          "metadata": {},
          "execution_count": 109
        }
      ]
    },
    {
      "cell_type": "code",
      "source": [
        "# Visualising the results\n",
        "plt.figure(figsize=(10,2))\n",
        "plt.plot(df.loc[1007:, 'Date'],dataset_test.values, color = 'red', label = 'Real Google Stock Price')\n",
        "plt.plot(df.loc[1007:, 'Date'],predicted_stock_price, color = 'blue', label = 'Predicted Google Stock Price')\n",
        "plt.xticks(np.arange(0,4,50))\n",
        "plt.title('Google Stock Price Prediction')\n",
        "plt.xlabel('Time')\n",
        "plt.ylabel('Google Stock Price')\n",
        "plt.legend()\n",
        "plt.show()"
      ],
      "metadata": {
        "colab": {
          "base_uri": "https://localhost:8080/",
          "height": 187
        },
        "id": "LniYiVO30ci3",
        "outputId": "a8e04ada-4084-4a70-c15e-39480f44026a"
      },
      "execution_count": null,
      "outputs": [
        {
          "output_type": "display_data",
          "data": {
            "text/plain": [
              "<Figure size 720x144 with 1 Axes>"
            ],
            "image/png": "[encoded data removed]"
          },
          "metadata": {
            "needs_background": "light"
          }
        }
      ]
    },
    {
      "cell_type": "markdown",
      "source": [
        "## **Changing the Step Size to 50**"
      ],
      "metadata": {
        "id": "O-H1yWcBBVEj"
      }
    },
    {
      "cell_type": "code",
      "source": [
        "# Feature Scaling\n",
        "sc = MinMaxScaler(feature_range = (0, 1))\n",
        "training_set_scaled = sc.fit_transform(training_set)\n",
        "# Creating a data structure with 60 time-steps and 1 output\n",
        "X_train = []\n",
        "y_train = []\n",
        "for i in range(50, 1007):\n",
        "    X_train.append(training_set_scaled[i-50:i, 0])\n",
        "    y_train.append(training_set_scaled[i, 0])\n",
        "X_train, y_train = np.array(X_train), np.array(y_train)\n",
        "X_train = np.reshape(X_train, (X_train.shape[0], X_train.shape[1], 1))\n",
        "print(X_train.shape)\n",
        "#Shape = (740, 60, 1) (values, time-step,label)"
      ],
      "metadata": {
        "colab": {
          "base_uri": "https://localhost:8080/"
        },
        "id": "VoT6UQg0BUv2",
        "outputId": "65bb70ac-89cd-4984-8c59-a486f8c30241"
      },
      "execution_count": null,
      "outputs": [
        {
          "output_type": "stream",
          "name": "stdout",
          "text": [
            "(957, 50, 1)\n"
          ]
        }
      ]
    },
    {
      "cell_type": "code",
      "source": [
        "model = Sequential()\n",
        "#Adding the first LSTM layer and some Dropout regularisation\n",
        "model.add(LSTM(units = 50, return_sequences = True, input_shape = (X_train.shape[1], 1)))\n",
        "model.add(Dropout(0.2))\n",
        "# Adding a second LSTM layer and some Dropout regularisation\n",
        "model.add(LSTM(units = 50, return_sequences = True))\n",
        "model.add(Dropout(0.2))\n",
        "# Adding a third LSTM layer and some Dropout regularisation\n",
        "model.add(LSTM(units = 50, return_sequences = True))\n",
        "model.add(Dropout(0.2))\n",
        "# Adding a fourth LSTM layer and some Dropout regularisation\n",
        "model.add(LSTM(units = 50))\n",
        "model.add(Dropout(0.2))\n",
        "# Adding the output layer\n",
        "model.add(Dense(units = 1))\n",
        "\n",
        "# Compiling the RNN\n",
        "model.compile(optimizer = 'adam', loss = 'mean_squared_error')\n",
        "\n",
        "# Fitting the RNN to the Training set\n",
        "model.fit(X_train, y_train, epochs = 100, batch_size = 32)"
      ],
      "metadata": {
        "colab": {
          "base_uri": "https://localhost:8080/"
        },
        "id": "QHDxiNI85B-b",
        "outputId": "ec75b16e-ad1d-4eeb-dd77-438aa1f45515"
      },
      "execution_count": null,
      "outputs": [
        {
          "output_type": "stream",
          "name": "stdout",
          "text": [
            "Epoch 1/100\n",
            "30/30 [==============================] - 10s 103ms/step - loss: 0.0433\n",
            "Epoch 2/100\n",
            "30/30 [==============================] - 3s 102ms/step - loss: 0.0074\n",
            "Epoch 3/100\n",
            "30/30 [==============================] - 3s 102ms/step - loss: 0.0049\n",
            "Epoch 4/100\n",
            "30/30 [==============================] - 3s 102ms/step - loss: 0.0055\n",
            "Epoch 5/100\n",
            "30/30 [==============================] - 3s 100ms/step - loss: 0.0055\n",
            "Epoch 6/100\n",
            "30/30 [==============================] - 3s 100ms/step - loss: 0.0052\n",
            "Epoch 7/100\n",
            "30/30 [==============================] - 3s 100ms/step - loss: 0.0042\n",
            "Epoch 8/100\n",
            "30/30 [==============================] - 4s 127ms/step - loss: 0.0042\n",
            "Epoch 9/100\n",
            "30/30 [==============================] - 3s 102ms/step - loss: 0.0044\n",
            "Epoch 10/100\n",
            "30/30 [==============================] - 4s 121ms/step - loss: 0.0038\n",
            "Epoch 11/100\n",
            "30/30 [==============================] - 3s 103ms/step - loss: 0.0041\n",
            "Epoch 12/100\n",
            "30/30 [==============================] - 3s 101ms/step - loss: 0.0039\n",
            "Epoch 13/100\n",
            "30/30 [==============================] - 3s 101ms/step - loss: 0.0040\n",
            "Epoch 14/100\n",
            "30/30 [==============================] - 3s 101ms/step - loss: 0.0033\n",
            "Epoch 15/100\n",
            "30/30 [==============================] - 3s 100ms/step - loss: 0.0036\n",
            "Epoch 16/100\n",
            "30/30 [==============================] - 3s 101ms/step - loss: 0.0036\n",
            "Epoch 17/100\n",
            "30/30 [==============================] - 3s 101ms/step - loss: 0.0031\n",
            "Epoch 18/100\n",
            "30/30 [==============================] - 3s 101ms/step - loss: 0.0031\n",
            "Epoch 19/100\n",
            "30/30 [==============================] - 3s 101ms/step - loss: 0.0031\n",
            "Epoch 20/100\n",
            "30/30 [==============================] - 3s 101ms/step - loss: 0.0028\n",
            "Epoch 21/100\n",
            "30/30 [==============================] - 3s 102ms/step - loss: 0.0041\n",
            "Epoch 22/100\n",
            "30/30 [==============================] - 3s 102ms/step - loss: 0.0037\n",
            "Epoch 23/100\n",
            "30/30 [==============================] - 3s 102ms/step - loss: 0.0030\n",
            "Epoch 24/100\n",
            "30/30 [==============================] - 3s 101ms/step - loss: 0.0033\n",
            "Epoch 25/100\n",
            "30/30 [==============================] - 3s 101ms/step - loss: 0.0031\n",
            "Epoch 26/100\n",
            "30/30 [==============================] - 3s 101ms/step - loss: 0.0031\n",
            "Epoch 27/100\n",
            "30/30 [==============================] - 3s 101ms/step - loss: 0.0029\n",
            "Epoch 28/100\n",
            "30/30 [==============================] - 3s 100ms/step - loss: 0.0031\n",
            "Epoch 29/100\n",
            "30/30 [==============================] - 3s 101ms/step - loss: 0.0029\n",
            "Epoch 30/100\n",
            "30/30 [==============================] - 3s 102ms/step - loss: 0.0035\n",
            "Epoch 31/100\n",
            "30/30 [==============================] - 3s 102ms/step - loss: 0.0032\n",
            "Epoch 32/100\n",
            "30/30 [==============================] - 5s 153ms/step - loss: 0.0026\n",
            "Epoch 33/100\n",
            "30/30 [==============================] - 3s 101ms/step - loss: 0.0027\n",
            "Epoch 34/100\n",
            "30/30 [==============================] - 3s 102ms/step - loss: 0.0027\n",
            "Epoch 35/100\n",
            "30/30 [==============================] - 4s 147ms/step - loss: 0.0027\n",
            "Epoch 36/100\n",
            "30/30 [==============================] - 5s 159ms/step - loss: 0.0026\n",
            "Epoch 37/100\n",
            "30/30 [==============================] - 3s 101ms/step - loss: 0.0026\n",
            "Epoch 38/100\n",
            "30/30 [==============================] - 3s 102ms/step - loss: 0.0027\n",
            "Epoch 39/100\n",
            "30/30 [==============================] - 3s 102ms/step - loss: 0.0027\n",
            "Epoch 40/100\n",
            "30/30 [==============================] - 3s 102ms/step - loss: 0.0027\n",
            "Epoch 41/100\n",
            "30/30 [==============================] - 3s 101ms/step - loss: 0.0023\n",
            "Epoch 42/100\n",
            "30/30 [==============================] - 3s 101ms/step - loss: 0.0021\n",
            "Epoch 43/100\n",
            "30/30 [==============================] - 3s 101ms/step - loss: 0.0022\n",
            "Epoch 44/100\n",
            "30/30 [==============================] - 3s 101ms/step - loss: 0.0024\n",
            "Epoch 45/100\n",
            "30/30 [==============================] - 3s 101ms/step - loss: 0.0022\n",
            "Epoch 46/100\n",
            "30/30 [==============================] - 3s 102ms/step - loss: 0.0022\n",
            "Epoch 47/100\n",
            "30/30 [==============================] - 3s 103ms/step - loss: 0.0021\n",
            "Epoch 48/100\n",
            "30/30 [==============================] - 3s 103ms/step - loss: 0.0022\n",
            "Epoch 49/100\n",
            "30/30 [==============================] - 3s 103ms/step - loss: 0.0022\n",
            "Epoch 50/100\n",
            "30/30 [==============================] - 3s 102ms/step - loss: 0.0020\n",
            "Epoch 51/100\n",
            "30/30 [==============================] - 3s 102ms/step - loss: 0.0020\n",
            "Epoch 52/100\n",
            "30/30 [==============================] - 3s 102ms/step - loss: 0.0024\n",
            "Epoch 53/100\n",
            "30/30 [==============================] - 3s 102ms/step - loss: 0.0023\n",
            "Epoch 54/100\n",
            "30/30 [==============================] - 3s 102ms/step - loss: 0.0024\n",
            "Epoch 55/100\n",
            "30/30 [==============================] - 3s 101ms/step - loss: 0.0021\n",
            "Epoch 56/100\n",
            "30/30 [==============================] - 3s 101ms/step - loss: 0.0021\n",
            "Epoch 57/100\n",
            "30/30 [==============================] - 3s 102ms/step - loss: 0.0021\n",
            "Epoch 58/100\n",
            "30/30 [==============================] - 3s 102ms/step - loss: 0.0018\n",
            "Epoch 59/100\n",
            "30/30 [==============================] - 3s 101ms/step - loss: 0.0020\n",
            "Epoch 60/100\n",
            "30/30 [==============================] - 3s 102ms/step - loss: 0.0021\n",
            "Epoch 61/100\n",
            "30/30 [==============================] - 3s 102ms/step - loss: 0.0019\n",
            "Epoch 62/100\n",
            "30/30 [==============================] - 3s 101ms/step - loss: 0.0018\n",
            "Epoch 63/100\n",
            "30/30 [==============================] - 3s 102ms/step - loss: 0.0019\n",
            "Epoch 64/100\n",
            "30/30 [==============================] - 3s 102ms/step - loss: 0.0020\n",
            "Epoch 65/100\n",
            "30/30 [==============================] - 3s 102ms/step - loss: 0.0020\n",
            "Epoch 66/100\n",
            "30/30 [==============================] - 3s 103ms/step - loss: 0.0019\n",
            "Epoch 67/100\n",
            "30/30 [==============================] - 3s 103ms/step - loss: 0.0019\n",
            "Epoch 68/100\n",
            "30/30 [==============================] - 3s 102ms/step - loss: 0.0018\n",
            "Epoch 69/100\n",
            "30/30 [==============================] - 3s 101ms/step - loss: 0.0018\n",
            "Epoch 70/100\n",
            "30/30 [==============================] - 3s 102ms/step - loss: 0.0018\n",
            "Epoch 71/100\n",
            "30/30 [==============================] - 3s 101ms/step - loss: 0.0016\n",
            "Epoch 72/100\n",
            "30/30 [==============================] - 3s 102ms/step - loss: 0.0016\n",
            "Epoch 73/100\n",
            "30/30 [==============================] - 4s 149ms/step - loss: 0.0016\n",
            "Epoch 74/100\n",
            "30/30 [==============================] - 4s 117ms/step - loss: 0.0017\n",
            "Epoch 75/100\n",
            "30/30 [==============================] - 3s 102ms/step - loss: 0.0018\n",
            "Epoch 76/100\n",
            "30/30 [==============================] - 3s 103ms/step - loss: 0.0016\n",
            "Epoch 77/100\n",
            "30/30 [==============================] - 3s 103ms/step - loss: 0.0016\n",
            "Epoch 78/100\n",
            "30/30 [==============================] - 3s 102ms/step - loss: 0.0016\n",
            "Epoch 79/100\n",
            "30/30 [==============================] - 3s 103ms/step - loss: 0.0014\n",
            "Epoch 80/100\n",
            "30/30 [==============================] - 3s 104ms/step - loss: 0.0016\n",
            "Epoch 81/100\n",
            "30/30 [==============================] - 3s 104ms/step - loss: 0.0015\n",
            "Epoch 82/100\n",
            "30/30 [==============================] - 3s 102ms/step - loss: 0.0016\n",
            "Epoch 83/100\n",
            "30/30 [==============================] - 3s 103ms/step - loss: 0.0015\n",
            "Epoch 84/100\n",
            "30/30 [==============================] - 3s 101ms/step - loss: 0.0016\n",
            "Epoch 85/100\n",
            "30/30 [==============================] - 3s 102ms/step - loss: 0.0016\n",
            "Epoch 86/100\n",
            "30/30 [==============================] - 3s 102ms/step - loss: 0.0014\n",
            "Epoch 87/100\n",
            "30/30 [==============================] - 3s 103ms/step - loss: 0.0014\n",
            "Epoch 88/100\n",
            "30/30 [==============================] - 3s 102ms/step - loss: 0.0015\n",
            "Epoch 89/100\n",
            "30/30 [==============================] - 3s 102ms/step - loss: 0.0015\n",
            "Epoch 90/100\n",
            "30/30 [==============================] - 3s 102ms/step - loss: 0.0013\n",
            "Epoch 91/100\n",
            "30/30 [==============================] - 3s 101ms/step - loss: 0.0014\n",
            "Epoch 92/100\n",
            "30/30 [==============================] - 3s 101ms/step - loss: 0.0014\n",
            "Epoch 93/100\n",
            "30/30 [==============================] - 3s 102ms/step - loss: 0.0014\n",
            "Epoch 94/100\n",
            "30/30 [==============================] - 3s 102ms/step - loss: 0.0015\n",
            "Epoch 95/100\n",
            "30/30 [==============================] - 3s 103ms/step - loss: 0.0013\n",
            "Epoch 96/100\n",
            "30/30 [==============================] - 3s 102ms/step - loss: 0.0015\n",
            "Epoch 97/100\n",
            "30/30 [==============================] - 3s 103ms/step - loss: 0.0013\n",
            "Epoch 98/100\n",
            "30/30 [==============================] - 3s 102ms/step - loss: 0.0012\n",
            "Epoch 99/100\n",
            "30/30 [==============================] - 3s 101ms/step - loss: 0.0014\n",
            "Epoch 100/100\n",
            "30/30 [==============================] - 3s 101ms/step - loss: 0.0014\n"
          ]
        },
        {
          "output_type": "execute_result",
          "data": {
            "text/plain": [
              "<keras.callbacks.History at 0x7f0e519e9a90>"
            ]
          },
          "metadata": {},
          "execution_count": 124
        }
      ]
    },
    {
      "cell_type": "code",
      "source": [
        "# Getting the predicted stock price of 2017\n",
        "dataset_train = df.iloc[:1007, 1:2]\n",
        "dataset_test = df.iloc[1007:, 1:2]\n",
        "dataset_total = pd.concat((dataset_train, dataset_test), axis = 0)\n",
        "inputs = dataset_total[len(dataset_total) - len(dataset_test) - 60:].values\n",
        "inputs = inputs.reshape(-1,1)\n",
        "inputs = sc.transform(inputs)\n",
        "X_test = []\n",
        "for i in range(50,301):\n",
        "    X_test.append(inputs[i-50:i, 0])\n",
        "X_test = np.array(X_test)\n",
        "X_test = np.reshape(X_test, (X_test.shape[0], X_test.shape[1], 1))\n",
        "print(X_test.shape)\n",
        "# Shape of test data same format, but smaller sample (459, 60, 1)"
      ],
      "metadata": {
        "colab": {
          "base_uri": "https://localhost:8080/"
        },
        "id": "SwEYn1msBfsn",
        "outputId": "2a80552c-48aa-412b-c14e-4bbe1480f69b"
      },
      "execution_count": null,
      "outputs": [
        {
          "output_type": "stream",
          "name": "stdout",
          "text": [
            "(251, 50, 1)\n"
          ]
        }
      ]
    },
    {
      "cell_type": "code",
      "source": [
        "predicted_stock_price = model.predict(X_test)\n",
        "predicted_stock_price = sc.inverse_transform(predicted_stock_price)"
      ],
      "metadata": {
        "colab": {
          "base_uri": "https://localhost:8080/"
        },
        "id": "Z9leLuejBfp0",
        "outputId": "ddf540cc-90ec-45ba-eada-c93e9f1e4b94"
      },
      "execution_count": null,
      "outputs": [
        {
          "output_type": "stream",
          "name": "stdout",
          "text": [
            "8/8 [==============================] - 2s 27ms/step\n"
          ]
        }
      ]
    },
    {
      "cell_type": "code",
      "source": [
        "# Visualising the results\n",
        "plt.figure(figsize=(10,2))\n",
        "plt.plot(df.loc[1007:, 'Date'],dataset_test.values, color = 'red', label = 'Real Google Stock Price')\n",
        "plt.plot(df.loc[1007:, 'Date'],predicted_stock_price, color = 'blue', label = 'Predicted Google Stock Price')\n",
        "plt.xticks(np.arange(0,4,50))\n",
        "plt.title('Google Stock Price Prediction')\n",
        "plt.xlabel('Time')\n",
        "plt.ylabel('Google Stock Price')\n",
        "plt.legend()\n",
        "plt.show()"
      ],
      "metadata": {
        "colab": {
          "base_uri": "https://localhost:8080/",
          "height": 187
        },
        "id": "ovnT_bIuBjCU",
        "outputId": "229e7210-e655-47de-9ba9-8f3c2c725595"
      },
      "execution_count": null,
      "outputs": [
        {
          "output_type": "display_data",
          "data": {
            "text/plain": [
              "<Figure size 720x144 with 1 Axes>"
            ],
            "image/png": "[encoded data removed]"
          },
          "metadata": {
            "needs_background": "light"
          }
        }
      ]
    },
    {
      "cell_type": "markdown",
      "source": [
        "It can be observed that the LSTM model does a good job predicting the stock prices when the step size used is 60, however as the step size decreases, the performance of the model also decreases with the step size=30 performing the worst. Since the model has been trained on a rather large chunk of data and the price of the stock does not see huge changes, the model is able to predict the prices well and with a good degree of accuracy."
      ],
      "metadata": {
        "id": "oiCXX-JvjbjV"
      }
    }
  ]
}